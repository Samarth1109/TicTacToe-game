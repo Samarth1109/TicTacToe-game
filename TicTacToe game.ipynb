{
 "cells": [
  {
   "cell_type": "code",
   "execution_count": 50,
   "id": "1e5ac6d3",
   "metadata": {},
   "outputs": [],
   "source": [
    "from IPython.display import clear_output\n",
    "\n",
    "def display_board(board):\n",
    "    print(board[7]+'|'+board[8]+'|'+board[9])\n",
    "    print(board[4]+'|'+board[5]+'|'+board[6])\n",
    "    print(board[1]+'|'+board[2]+'|'+board[3])"
   ]
  },
  {
   "cell_type": "code",
   "execution_count": 49,
   "id": "201d0eb1",
   "metadata": {},
   "outputs": [
    {
     "name": "stdout",
     "output_type": "stream",
     "text": [
      "X|O|X\n",
      "O|X|O\n",
      "X|O|X\n"
     ]
    }
   ],
   "source": [
    "test_board = ['#','X','O','X','O','X','O','X','O','X','O']\n",
    "display_board(test_board)\n"
   ]
  },
  {
   "cell_type": "markdown",
   "id": "45b8610b",
   "metadata": {},
   "source": [
    "# Step 2: write a function that can take in a player input and assign their marker as 'X' or 'O'. think about using while loop to contiually ask until you get the correct answer"
   ]
  },
  {
   "cell_type": "code",
   "execution_count": 51,
   "id": "e42a1baa",
   "metadata": {},
   "outputs": [],
   "source": [
    "def player_input():\n",
    "    \n",
    "    marker = ' '\n",
    "    \n",
    "    while marker !='X' and marker !='O':\n",
    "        marker = input('Player 1,choose X or O: ').upper()\n",
    "        \n",
    "    if marker == 'X':\n",
    "        \n",
    "        return ('X','O')\n",
    "    else:\n",
    "        return ('O','X')\n",
    "    "
   ]
  },
  {
   "cell_type": "code",
   "execution_count": 52,
   "id": "cfd0b30f",
   "metadata": {},
   "outputs": [
    {
     "name": "stdout",
     "output_type": "stream",
     "text": [
      "Player 1,choose X or O: X\n"
     ]
    }
   ],
   "source": [
    "player1_marker, player2_marker = player_input()"
   ]
  },
  {
   "cell_type": "code",
   "execution_count": 5,
   "id": "e6a0a83e",
   "metadata": {},
   "outputs": [
    {
     "data": {
      "text/plain": [
       "'X'"
      ]
     },
     "execution_count": 5,
     "metadata": {},
     "output_type": "execute_result"
    }
   ],
   "source": [
    "player1_marker"
   ]
  },
  {
   "cell_type": "markdown",
   "id": "9d8c70f9",
   "metadata": {},
   "source": [
    "##  Step 3: write a function that takes in the board list object,a marker ('X','O') and a desired position (number1-9) and assign it to the board"
   ]
  },
  {
   "cell_type": "code",
   "execution_count": 74,
   "id": "b7e7ad5f",
   "metadata": {},
   "outputs": [],
   "source": [
    "def place_marker(board,marker,position):\n",
    "    board[position] = marker"
   ]
  },
  {
   "cell_type": "code",
   "execution_count": 75,
   "id": "2938c583",
   "metadata": {},
   "outputs": [
    {
     "data": {
      "text/plain": [
       "['#', 'X', 'O', 'X', 'O', 'X', 'O', 'X', '$', 'X', 'O']"
      ]
     },
     "execution_count": 75,
     "metadata": {},
     "output_type": "execute_result"
    }
   ],
   "source": [
    "test_board"
   ]
  },
  {
   "cell_type": "code",
   "execution_count": 76,
   "id": "ae83d9da",
   "metadata": {},
   "outputs": [
    {
     "name": "stdout",
     "output_type": "stream",
     "text": [
      "X|$|X\n",
      "O|X|O\n",
      "X|O|X\n"
     ]
    }
   ],
   "source": [
    "place_marker(test_board,'$',8)\n",
    "display_board(test_board)\n"
   ]
  },
  {
   "cell_type": "markdown",
   "id": "5c9707e9",
   "metadata": {},
   "source": [
    "# Step 4: write a function that takes in board and a mark(X or O) and then click to see if that marks has won."
   ]
  },
  {
   "cell_type": "code",
   "execution_count": 77,
   "id": "36bf41ec",
   "metadata": {},
   "outputs": [],
   "source": [
    "def win_check(board,mark):\n",
    "    return ((board[7]== mark and board[8] == mark and board[9] == mark) or\n",
    "    (board[4]== mark and board[5] == mark and board[6] == mark) or # across the middle\n",
    "    (board[1]== mark and board[2] == mark and board[3] == mark) or #across the bottom\n",
    "    (board[7]== mark and board[4] == mark and board[1] == mark) or #down the middle\n",
    "    (board[8]== mark and board[5] == mark and board[2] == mark) or #down the middle\n",
    "    (board[9]== mark and board[6] == mark and board[3] == mark) or #down the right side\n",
    "    (board[7]== mark and board[5] == mark and board[3] == mark) or #diagonal\n",
    "    (board[9]== mark and board[5] == mark and board[1] == mark)) #diagonal"
   ]
  },
  {
   "cell_type": "code",
   "execution_count": 78,
   "id": "0af166b5",
   "metadata": {},
   "outputs": [
    {
     "name": "stdout",
     "output_type": "stream",
     "text": [
      "X|$|X\n",
      "O|X|O\n",
      "X|O|X\n"
     ]
    },
    {
     "data": {
      "text/plain": [
       "True"
      ]
     },
     "execution_count": 78,
     "metadata": {},
     "output_type": "execute_result"
    }
   ],
   "source": [
    "display_board(test_board)\n",
    "win_check(test_board,'X')"
   ]
  },
  {
   "cell_type": "markdown",
   "id": "5ab220b5",
   "metadata": {},
   "source": [
    "# Step 5:  write a function that uses the random module to randomly decide which player goes first. you may want to lookup random.randint() return a string of which player went first"
   ]
  },
  {
   "cell_type": "code",
   "execution_count": 79,
   "id": "6957b3bd",
   "metadata": {},
   "outputs": [],
   "source": [
    "import random\n",
    "\n",
    "def choose_first():\n",
    "    \n",
    "    flip = random.randint(0,1)\n",
    "    \n",
    "    if flip == 0:\n",
    "        return 'Player 1'\n",
    "    else:\n",
    "        return 'Player 2'"
   ]
  },
  {
   "cell_type": "markdown",
   "id": "311d579e",
   "metadata": {},
   "source": [
    "# Step 6: write a function that returns a boolean indicating whether a space on the board is freely available."
   ]
  },
  {
   "cell_type": "code",
   "execution_count": 80,
   "id": "161b5b34",
   "metadata": {},
   "outputs": [],
   "source": [
    "def space_check(board,position):\n",
    "    \n",
    "    return board[position] == ' '"
   ]
  },
  {
   "cell_type": "markdown",
   "id": "7e64ff9a",
   "metadata": {},
   "source": [
    "# step 7 write a function that checks if the board is full and returns a boolean value. true if full, False otherwise"
   ]
  },
  {
   "cell_type": "code",
   "execution_count": 86,
   "id": "e1335f54",
   "metadata": {},
   "outputs": [],
   "source": [
    "def full_board_check(board):\n",
    "    \n",
    "    for i in range(1,10):\n",
    "        if space_check(board,i):\n",
    "            return False\n",
    "    return True"
   ]
  },
  {
   "cell_type": "markdown",
   "id": "647085ce",
   "metadata": {},
   "source": [
    "# Step 8: Write a function that ask for aplayer next position(as a number 1-9) and then uses the function  from the step 6 to check if its a free position. if it is, then return the position for later use."
   ]
  },
  {
   "cell_type": "code",
   "execution_count": 87,
   "id": "abc95403",
   "metadata": {},
   "outputs": [],
   "source": [
    "def player_choice(board):\n",
    "    position = 0\n",
    "    while position not in [1,2,3,4,5,6,7,8,9] or not space_check(board,position):\n",
    "        position = int(input('Choose a Position: (1-9)'))\n",
    "        \n",
    "    return position"
   ]
  },
  {
   "cell_type": "markdown",
   "id": "b1254929",
   "metadata": {},
   "source": [
    "# Step 9: write a function that ask the player if they want to play again and return a boolean True if they do want to play again"
   ]
  },
  {
   "cell_type": "code",
   "execution_count": 94,
   "id": "ba8e222c",
   "metadata": {},
   "outputs": [],
   "source": [
    "def replay():\n",
    "    \n",
    "    input(\"Play Again?  Enter Yes or No\")\n",
    "    \n",
    "    return choice == 'Yes'"
   ]
  },
  {
   "cell_type": "markdown",
   "id": "f126c71e",
   "metadata": {},
   "source": [
    "# step 10: use while loop and the function you;ve made to run the game!"
   ]
  },
  {
   "cell_type": "code",
   "execution_count": null,
   "id": "2c54fdc8",
   "metadata": {},
   "outputs": [
    {
     "name": "stdout",
     "output_type": "stream",
     "text": [
      "Welcome to TIC TAC TOE\n"
     ]
    }
   ],
   "source": [
    "#while loop to keep running the game\n",
    "print('Welcome to TIC TAC TOE')\n",
    "\n",
    "while True:\n",
    "    \n",
    "    \n",
    "    \n",
    "    the_board= [' ']*10\n",
    "    player1_marker,player2_marker=player_input()\n",
    "    \n",
    "    turn = choose_first()\n",
    "    print(turn +'will go first')\n",
    "    \n",
    "    play_game = input('Ready to Play? y or n?')\n",
    "    \n",
    "    if play_game == 'y':\n",
    "        game_on = True\n",
    "    else:\n",
    "        game_on = False\n",
    "        \n",
    "    while game_on:\n",
    "        \n",
    "        if turn == 'Player 1':\n",
    "            display_board(the_board)\n",
    "            position = player_choice(the_board)\n",
    "            place_marker(the_board,player1_marker,position)\n",
    "            \n",
    "            if win_check(the_board,player1_marker):\n",
    "                display_board(the_board)\n",
    "                print('PLAYER 1 HAS WON!!')\n",
    "                game_on = False\n",
    "            else:\n",
    "                if full_board_check(the_board):\n",
    "                    display_board(the_board)\n",
    "                    print(\"TIE GAME!\")\n",
    "                    game_on = False\n",
    "                else:\n",
    "                    turn = 'Player 2'\n",
    "                    \n",
    "        else:\n",
    "        \n",
    "            display_board(the_board)\n",
    "            position = player_choice(the_board)\n",
    "            place_marker(the_board,player2_marker,position)\n",
    "            \n",
    "            if win_check(the_board,player2_marker):\n",
    "                display_board(the_board)\n",
    "                print('PLAYER 2 HAS WON!!')\n",
    "                game_on = False\n",
    "            else:\n",
    "                if full_board_check(the_board):\n",
    "                    display_board(the_board)\n",
    "                    print(\"TIE GAME!\")\n",
    "                    game_on = False\n",
    "                else:\n",
    "                    turn = 'Player 1'\n",
    "                    \n",
    "                    \n",
    "                    \n",
    "                    \n",
    "    if not replay():\n",
    "        break\n",
    "            \n"
   ]
  },
  {
   "cell_type": "code",
   "execution_count": null,
   "id": "93ce903a",
   "metadata": {},
   "outputs": [],
   "source": []
  },
  {
   "cell_type": "code",
   "execution_count": null,
   "id": "86e5e89f",
   "metadata": {},
   "outputs": [],
   "source": []
  },
  {
   "cell_type": "code",
   "execution_count": null,
   "id": "c15ba238",
   "metadata": {},
   "outputs": [],
   "source": []
  },
  {
   "cell_type": "code",
   "execution_count": null,
   "id": "2f866e37",
   "metadata": {},
   "outputs": [],
   "source": []
  },
  {
   "cell_type": "code",
   "execution_count": null,
   "id": "d81d487f",
   "metadata": {},
   "outputs": [],
   "source": []
  }
 ],
 "metadata": {
  "kernelspec": {
   "display_name": "Python 3 (ipykernel)",
   "language": "python",
   "name": "python3"
  },
  "language_info": {
   "codemirror_mode": {
    "name": "ipython",
    "version": 3
   },
   "file_extension": ".py",
   "mimetype": "text/x-python",
   "name": "python",
   "nbconvert_exporter": "python",
   "pygments_lexer": "ipython3",
   "version": "3.9.13"
  }
 },
 "nbformat": 4,
 "nbformat_minor": 5
}
